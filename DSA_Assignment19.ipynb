{
 "cells": [
  {
   "cell_type": "code",
   "execution_count": 3,
   "metadata": {},
   "outputs": [
    {
     "name": "stdout",
     "output_type": "stream",
     "text": [
      "[1, 1, 2, 3, 4, 4, 5, 6]\n"
     ]
    }
   ],
   "source": [
    "#Q1 - \n",
    "'''  \n",
    "ou are given an array of `k` linked-lists `lists`, each linked-list is sorted in ascending order.\n",
    "\n",
    "*Merge all the linked-lists into one sorted linked-list and return it.*\n",
    "\n",
    "Input for this question is: lists = [[1,4,5],[1,3,4],[2,6]]\n",
    "Output for this question should be: [1,1,2,3,4,4,5,6]\n",
    "'''\n",
    "#Answer:\n",
    "\n",
    "import heapq\n",
    "\n",
    "class ListNode:\n",
    "    def __init__(self, val=0, next=None):\n",
    "        self.val = val\n",
    "        self.next = next\n",
    "\n",
    "def mergeKLists(lists):\n",
    "    min_heap = []\n",
    "    heapq.heapify(min_heap)\n",
    "\n",
    "    # Custom comparison function for nodes\n",
    "    def node_cmp(node):\n",
    "        return node.val\n",
    "\n",
    "    # Override the comparison methods of the ListNode class\n",
    "    ListNode.__lt__ = lambda self, other: node_cmp(self) < node_cmp(other)\n",
    "\n",
    "    # Push the head nodes of the linked lists into the min-heap\n",
    "    for linked_list in lists:\n",
    "        if linked_list:\n",
    "            heapq.heappush(min_heap, linked_list)\n",
    "\n",
    "    # Create a dummy node as the head of the merged linked list\n",
    "    dummy = ListNode(0)\n",
    "    curr = dummy\n",
    "\n",
    "    # Merge the linked lists\n",
    "    while min_heap:\n",
    "        node = heapq.heappop(min_heap)\n",
    "        curr.next = node\n",
    "        curr = curr.next\n",
    "\n",
    "        if node.next:\n",
    "            heapq.heappush(min_heap, node.next)\n",
    "\n",
    "    return dummy.next\n",
    "\n",
    "# Example input\n",
    "lists = [\n",
    "    ListNode(1, ListNode(4, ListNode(5))),\n",
    "    ListNode(1, ListNode(3, ListNode(4))),\n",
    "    ListNode(2, ListNode(6))\n",
    "]\n",
    "\n",
    "# Call the function and print the output\n",
    "merged = mergeKLists(lists)\n",
    "\n",
    "# Convert the merged linked list to a list for easy visualization\n",
    "result = []\n",
    "while merged:\n",
    "    result.append(merged.val)\n",
    "    merged = merged.next\n",
    "\n",
    "print(result)\n"
   ]
  },
  {
   "cell_type": "code",
   "execution_count": 4,
   "metadata": {},
   "outputs": [
    {
     "name": "stdout",
     "output_type": "stream",
     "text": [
      "[2, 1, 1, 0]\n"
     ]
    }
   ],
   "source": [
    "#Q2 - \n",
    "'''  \n",
    "Given an integer array nums, return an integer array counts where counts[i] is the number of smaller elements to the right of nums[i].\n",
    "Input for this question: nums = [5,2,6,1]\n",
    "Output for this question should be: [2,1,1,0]\n",
    "'''\n",
    "#Answer:\n",
    "def countSmaller(nums):\n",
    "    def mergeSort(arr, left, right, result):\n",
    "        if left == right:\n",
    "            return\n",
    "        \n",
    "        mid = (left + right) // 2\n",
    "        mergeSort(arr, left, mid, result)\n",
    "        mergeSort(arr, mid + 1, right, result)\n",
    "        \n",
    "        merge(arr, left, mid, right, result)\n",
    "    \n",
    "    def merge(arr, left, mid, right, result):\n",
    "        i = left\n",
    "        j = mid + 1\n",
    "        merged = []\n",
    "        count = 0\n",
    "        \n",
    "        while i <= mid and j <= right:\n",
    "            if arr[i] > arr[j]:\n",
    "                merged.append(arr[j])\n",
    "                count += 1\n",
    "                j += 1\n",
    "            else:\n",
    "                merged.append(arr[i])\n",
    "                result[arr[i][1]] += count\n",
    "                i += 1\n",
    "        \n",
    "        while i <= mid:\n",
    "            merged.append(arr[i])\n",
    "            result[arr[i][1]] += count\n",
    "            i += 1\n",
    "        \n",
    "        while j <= right:\n",
    "            merged.append(arr[j])\n",
    "            j += 1\n",
    "        \n",
    "        for i in range(left, right + 1):\n",
    "            arr[i] = merged[i - left]\n",
    "    \n",
    "    n = len(nums)\n",
    "    result = [0] * n\n",
    "    indexedNums = [(num, i) for i, num in enumerate(nums)]\n",
    "    \n",
    "    mergeSort(indexedNums, 0, n - 1, result)\n",
    "    \n",
    "    return result\n",
    "\n",
    "# Example input\n",
    "nums = [5, 2, 6, 1]\n",
    "# Call the function and print the output\n",
    "print(countSmaller(nums))\n"
   ]
  },
  {
   "cell_type": "code",
   "execution_count": 5,
   "metadata": {},
   "outputs": [
    {
     "name": "stdout",
     "output_type": "stream",
     "text": [
      "[1, 2, 3, 5]\n"
     ]
    }
   ],
   "source": [
    "#Q3 - \n",
    "''' \n",
    "Given an array of integers `nums`, sort the array in ascending order and return it.\n",
    "\n",
    "You must solve the problem **without using any built-in** functions in `O(nlog(n))` time complexity and with the smallest space complexity possible.\n",
    "\n",
    "Input for this question is: nums = [5,2,3,1]\n",
    "Output for this question should be: [1,2,3,5]\n",
    "'''\n",
    "\n",
    "#Answer:\n",
    "def sortArray(nums):\n",
    "    def mergeSort(arr, left, right):\n",
    "        if left < right:\n",
    "            mid = (left + right) // 2\n",
    "            mergeSort(arr, left, mid)\n",
    "            mergeSort(arr, mid + 1, right)\n",
    "            merge(arr, left, mid, right)\n",
    "\n",
    "    def merge(arr, left, mid, right):\n",
    "        left_half = arr[left:mid+1]\n",
    "        right_half = arr[mid+1:right+1]\n",
    "        i = j = 0\n",
    "        k = left\n",
    "\n",
    "        while i < len(left_half) and j < len(right_half):\n",
    "            if left_half[i] <= right_half[j]:\n",
    "                arr[k] = left_half[i]\n",
    "                i += 1\n",
    "            else:\n",
    "                arr[k] = right_half[j]\n",
    "                j += 1\n",
    "            k += 1\n",
    "\n",
    "        while i < len(left_half):\n",
    "            arr[k] = left_half[i]\n",
    "            i += 1\n",
    "            k += 1\n",
    "\n",
    "        while j < len(right_half):\n",
    "            arr[k] = right_half[j]\n",
    "            j += 1\n",
    "            k += 1\n",
    "\n",
    "    mergeSort(nums, 0, len(nums) - 1)\n",
    "    return nums\n",
    "\n",
    "# Example input\n",
    "nums = [5, 2, 3, 1]\n",
    "# Call the function and print the output\n",
    "print(sortArray(nums))\n"
   ]
  },
  {
   "cell_type": "code",
   "execution_count": 6,
   "metadata": {},
   "outputs": [
    {
     "name": "stdout",
     "output_type": "stream",
     "text": [
      "[1, 2, 4, 3, 5, 0, 0, 0]\n"
     ]
    }
   ],
   "source": [
    "#Q4 - \n",
    "'''   \n",
    "Given an array of random numbers, Push all the zero’s of a given array to the end of the array. For example, if the given arrays is {1, 9, 8, 4, 0, 0, 2, 7, 0, 6, 0}, it should be changed to {1, 9, 8, 4, 2, 7, 6, 0, 0, 0, 0}. The order of all other elements should be same. Expected time complexity is O(n) and extra space is O(1).\n",
    "\n",
    "Input for this question is:  arr[] = {1, 2, 0, 4, 3, 0, 5, 0};\n",
    "Output for this question should be: arr[] = {1, 2, 4, 3, 5, 0, 0, 0};\n",
    "'''\n",
    "#Answer:\n",
    "def pushZeroesToEnd(arr):\n",
    "    left = right = 0\n",
    "    n = len(arr)\n",
    "\n",
    "    while left < n:\n",
    "        if arr[left] != 0:\n",
    "            arr[left], arr[right] = arr[right], arr[left]\n",
    "            right += 1\n",
    "        left += 1\n",
    "\n",
    "    return arr\n",
    "\n",
    "# Example input\n",
    "arr = [1, 2, 0, 4, 3, 0, 5, 0]\n",
    "# Call the function and print the output\n",
    "print(pushZeroesToEnd(arr))"
   ]
  },
  {
   "cell_type": "code",
   "execution_count": 9,
   "metadata": {},
   "outputs": [
    {
     "name": "stdout",
     "output_type": "stream",
     "text": [
      "[-4, -1, 3, 1, 2, 4]\n"
     ]
    }
   ],
   "source": [
    "#Q5 - \n",
    "'''  \n",
    "Given an array of positive and negative numbers, arrange them in an alternate fashion such that every positive number is followed by a negative and vice-versa maintaining the order of appearance. The number of positive and negative numbers need not be equal. If there are more positive numbers they appear at the end of the array. If there are more negative numbers, they too appear at the end of the array.\n",
    "\n",
    "Input for this question is:  arr[] = {1, 2, 3, -4, -1, 4}\n",
    "Output for this question should be: arr[] = {-4, 1, -1, 2, 3, 4}\n",
    "'''\n",
    "#Answer:\n",
    "def rearrangeArray(arr):\n",
    "    pos = 0\n",
    "    neg = 0\n",
    "    n = len(arr)\n",
    "\n",
    "    while pos < n and neg < n:\n",
    "        while pos < n and arr[pos] < 0:\n",
    "            pos += 1\n",
    "        while neg < n and arr[neg] >= 0:\n",
    "            neg += 1\n",
    "\n",
    "        if pos < n and neg < n:\n",
    "            arr[pos], arr[neg] = arr[neg], arr[pos]\n",
    "\n",
    "    return arr\n",
    "\n",
    "# Example input\n",
    "arr = [1, 2, 3, -4, -1, 4]\n",
    "# Call the function and print the output\n",
    "print(rearrangeArray(arr))\n"
   ]
  },
  {
   "cell_type": "code",
   "execution_count": 11,
   "metadata": {},
   "outputs": [
    {
     "name": "stdout",
     "output_type": "stream",
     "text": [
      "[1, 2, 3, 4, 4, 5, 6, 8]\n"
     ]
    }
   ],
   "source": [
    "#Q6 - \n",
    "'''  \n",
    "\n",
    "Given two sorted arrays, the task is to merge them in a sorted manner.\n",
    "Input for this question: arr1[] = { 1, 3, 4, 5}, arr2[] = {2, 4, 6, 8} \n",
    "Output for this question should be: arr3[] = {1, 2, 3, 4, 4, 5, 6, 8}\n",
    "'''\n",
    "#Answer:\n",
    "def mergeArrays(arr1, arr2):\n",
    "    p1 = p2 = p3 = 0\n",
    "    n1 = len(arr1)\n",
    "    n2 = len(arr2)\n",
    "    arr3 = []\n",
    "\n",
    "    while p1 < n1 and p2 < n2:\n",
    "        if arr1[p1] <= arr2[p2]:\n",
    "            arr3.append(arr1[p1])\n",
    "            p1 += 1\n",
    "        else:\n",
    "            arr3.append(arr2[p2])\n",
    "            p2 += 1\n",
    "        p3 += 1\n",
    "\n",
    "    while p1 < n1:\n",
    "        arr3.append(arr1[p1])\n",
    "        p1 += 1\n",
    "        p3 += 1\n",
    "\n",
    "    while p2 < n2:\n",
    "        arr3.append(arr2[p2])\n",
    "        p2 += 1\n",
    "        p3 += 1\n",
    "\n",
    "    return arr3\n",
    "\n",
    "# Example input\n",
    "arr1 = [1, 3, 4, 5]\n",
    "arr2 = [2, 4, 6, 8]\n",
    "# Call the function and print the output\n",
    "print(mergeArrays(arr1, arr2))"
   ]
  },
  {
   "cell_type": "code",
   "execution_count": 12,
   "metadata": {},
   "outputs": [
    {
     "name": "stdout",
     "output_type": "stream",
     "text": [
      "[2]\n"
     ]
    }
   ],
   "source": [
    "#Q7 - \n",
    "'''  \n",
    "Given two integer arrays nums1 and nums2, return an array of their intersection. Each element in the result must be unique and you may return the result in any order.\n",
    "\n",
    "Input for this question is: nums1 = [1,2,2,1], nums2 = [2,2]\n",
    "Output for this question should be: [2]\n",
    "\n",
    "'''\n",
    "#Answer:\n",
    "def intersection(nums1, nums2):\n",
    "    set1 = set(nums1)\n",
    "    intersection = set()\n",
    "\n",
    "    for num in nums2:\n",
    "        if num in set1:\n",
    "            intersection.add(num)\n",
    "\n",
    "    return list(intersection)\n",
    "\n",
    "# Example input\n",
    "nums1 = [1, 2, 2, 1]\n",
    "nums2 = [2, 2]\n",
    "# Call the function and print the output\n",
    "print(intersection(nums1, nums2))"
   ]
  },
  {
   "cell_type": "code",
   "execution_count": 13,
   "metadata": {},
   "outputs": [
    {
     "name": "stdout",
     "output_type": "stream",
     "text": [
      "[2, 2]\n"
     ]
    }
   ],
   "source": [
    "#Q8- \n",
    "'''  \n",
    "Given two integer arrays nums1 and nums2, return an array of their intersection. Each element in the result must appear as many times as it shows in both arrays and you may return the result in any order.\n",
    "Input for this question is: nums1 = [1,2,2,1], nums2 = [2,2]\n",
    "Output for this question should be: [2,2]\n",
    "\n",
    "'''\n",
    "#Answer:\n",
    "def intersection(nums1, nums2):\n",
    "    count = {}\n",
    "    intersection = []\n",
    "\n",
    "    # Count occurrences in nums1\n",
    "    for num in nums1:\n",
    "        if num in count:\n",
    "            count[num] += 1\n",
    "        else:\n",
    "            count[num] = 1\n",
    "\n",
    "    # Find intersection considering occurrences\n",
    "    for num in nums2:\n",
    "        if num in count and count[num] > 0:\n",
    "            intersection.append(num)\n",
    "            count[num] -= 1\n",
    "\n",
    "    return intersection\n",
    "\n",
    "# Example input\n",
    "nums1 = [1, 2, 2, 1]\n",
    "nums2 = [2, 2]\n",
    "# Call the function and print the output\n",
    "print(intersection(nums1, nums2))\n"
   ]
  },
  {
   "cell_type": "code",
   "execution_count": null,
   "metadata": {},
   "outputs": [],
   "source": []
  }
 ],
 "metadata": {
  "kernelspec": {
   "display_name": "Python 3.9.6 64-bit",
   "language": "python",
   "name": "python3"
  },
  "language_info": {
   "codemirror_mode": {
    "name": "ipython",
    "version": 3
   },
   "file_extension": ".py",
   "mimetype": "text/x-python",
   "name": "python",
   "nbconvert_exporter": "python",
   "pygments_lexer": "ipython3",
   "version": "3.9.6"
  },
  "orig_nbformat": 4,
  "vscode": {
   "interpreter": {
    "hash": "31f2aee4e71d21fbe5cf8b01ff0e069b9275f58929596ceb00d14d90e3e16cd6"
   }
  }
 },
 "nbformat": 4,
 "nbformat_minor": 2
}
